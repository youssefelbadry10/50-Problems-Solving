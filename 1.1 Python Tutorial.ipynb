{
 "cells": [
  {
   "cell_type": "markdown",
   "metadata": {},
   "source": [
    "# Out Put"
   ]
  },
  {
   "cell_type": "code",
   "execution_count": 17,
   "metadata": {},
   "outputs": [
    {
     "name": "stdout",
     "output_type": "stream",
     "text": [
      "Hello, Python!\n",
      "hello\n",
      "the value  = 10\n",
      "the value  = 10 \n",
      "the value  = 10\n",
      "\n",
      "\n",
      "\n",
      "G:\\BRMAGA\\PS Road map\\week 1\\QAQ problem.py\n",
      "G:\\BRMAGA\\PS Road map\\week 1\\QAQ problem.py\n",
      "  \n",
      "Two roads diverged in a yellow wood,\n",
      "And sorry I could not travel both\n",
      "And be one traveler, long I stood\n",
      "And looked down one as far as I could\n",
      "\n",
      "It's  \n"
     ]
    }
   ],
   "source": [
    "print('Hello, Python!')\n",
    "message = 'hello'\n",
    "print(message)\n",
    "print( \"the value  =\" , 10)\n",
    "\n",
    "var1 = 10\n",
    "print( f\"the value  = {var1} \" )\n",
    "print( \"the value  = {}\".format(var1) )\n",
    "\n",
    "print('\\n')  # Blank line\n",
    "print()    # Empty line\n",
    "\n",
    "print(r\"G:\\BRMAGA\\PS Road map\\week 1\\QAQ problem.py\")\n",
    "print(\"\"\"G:\\BRMAGA\\PS Road map\\week 1\\QAQ problem.py\"\"\")\n",
    "\n",
    "# multi-line string\n",
    "print('''  \n",
    "Two roads diverged in a yellow wood,\n",
    "And sorry I could not travel both\n",
    "And be one traveler, long I stood\n",
    "And looked down one as far as I could\n",
    "''')\n",
    "\n",
    "print('It\\'s  ')\n",
    "\n"
   ]
  },
  {
   "cell_type": "markdown",
   "metadata": {},
   "source": [
    "# input & type casting"
   ]
  },
  {
   "cell_type": "code",
   "execution_count": 7,
   "metadata": {},
   "outputs": [
    {
     "name": "stdout",
     "output_type": "stream",
     "text": [
      " the type of x is =  <class 'str'>\n",
      " the new type of x is =  <class 'int'>\n",
      " the new type of x is =  <class 'float'>\n",
      " the new type of x is =  <class 'bool'>\n",
      " the new type of x is =  <class 'str'>\n"
     ]
    }
   ],
   "source": [
    "x  = input() # input 10 \n",
    "y  = input(\"enter y \")\n",
    "print( \" the type of x is = \" , type(x) )\n",
    "\n",
    "x = int (x)\n",
    "print( \" the new type of x is = \" , type(x) )\n",
    "\n",
    "x = float (x)\n",
    "print( \" the new type of x is = \" , type(x) )\n",
    "\n",
    "x = bool (x)\n",
    "print( \" the new type of x is = \" , type(x) )\n",
    "\n",
    "x = str (x)\n",
    "print( \" the new type of x is = \" , type(x) )"
   ]
  },
  {
   "cell_type": "markdown",
   "metadata": {},
   "source": [
    "# Data Types "
   ]
  },
  {
   "cell_type": "code",
   "execution_count": 5,
   "metadata": {},
   "outputs": [
    {
     "name": "stdout",
     "output_type": "stream",
     "text": [
      "12 <class 'int'>\n",
      "23.3 <class 'float'>\n",
      "False <class 'bool'>\n",
      "True\n",
      "13 <class 'str'>\n",
      "\n",
      "23 <class 'int'> \n",
      "\n",
      "12.0 <class 'float'> \n",
      "\n",
      "23 <class 'str'> \n",
      "\n",
      "True <class 'bool'>\n"
     ]
    }
   ],
   "source": [
    "integar = 12\n",
    "my_float = 23.3\n",
    "print(integar , type(integar))\n",
    "print(my_float , type(my_float))\n",
    "\n",
    "boolean1 = True\n",
    "boolean2 = False\n",
    "print(boolean2, type(boolean2))\n",
    "print(boolean1)\n",
    "\n",
    "string = '13'\n",
    "print(string , type(string))\n",
    "\n",
    "print()\n",
    "\n",
    "my_float = int(my_float)\n",
    "print(my_float , type(my_float),'\\n')\n",
    "\n",
    "integar = float(integar)\n",
    "print(integar , type(integar),'\\n')\n",
    "\n",
    "my_float = str(my_float)\n",
    "print(my_float , type(my_float),'\\n')\n",
    "\n",
    "boolean2 = bool(1)\n",
    "print(boolean2, type(boolean2))"
   ]
  },
  {
   "cell_type": "markdown",
   "metadata": {},
   "source": [
    "# Expression and Variables"
   ]
  },
  {
   "cell_type": "code",
   "execution_count": 9,
   "metadata": {},
   "outputs": [
    {
     "name": "stdout",
     "output_type": "stream",
     "text": [
      "160\n",
      "-10\n",
      "20\n",
      "5.0\n",
      "4\n",
      "1920\n",
      "4\n",
      "0\n"
     ]
    }
   ],
   "source": [
    "print( 43 + 60 + 16 + 41 )\n",
    "print( 50 - 60 )\n",
    "print( 5*4 )\n",
    "print( 25 / 5 )\n",
    "print( 25 // 6 )\n",
    "print( (30 + 2) * 60 )\n",
    "print(2**2)\n",
    "\n",
    "print(eval('2-2'))"
   ]
  },
  {
   "cell_type": "code",
   "execution_count": 13,
   "metadata": {},
   "outputs": [
    {
     "name": "stdout",
     "output_type": "stream",
     "text": [
      "25\n",
      "26\n"
     ]
    }
   ],
   "source": [
    "# Integral Expressions\n",
    "a = 13\n",
    "b = 12.0\n",
    "\n",
    "c = a + int(b)\n",
    "print(c)\n",
    "\n",
    "c+=1\n",
    "print(c)\n"
   ]
  },
  {
   "cell_type": "code",
   "execution_count": 11,
   "metadata": {},
   "outputs": [
    {
     "name": "stdout",
     "output_type": "stream",
     "text": [
      "True\n"
     ]
    }
   ],
   "source": [
    "# Relational Expressions\n",
    "a = 21\n",
    "b = 13\n",
    "c = 40\n",
    "d = 37\n",
    "\n",
    "p = (a + b) >= (c - d)\n",
    "print(p)\n"
   ]
  },
  {
   "cell_type": "code",
   "execution_count": 12,
   "metadata": {},
   "outputs": [
    {
     "name": "stdout",
     "output_type": "stream",
     "text": [
      "False\n",
      "True\n",
      "True\n"
     ]
    }
   ],
   "source": [
    "P = (10 == 9)\n",
    "Q = (7 > 5)\n",
    "\n",
    "# Logical Expressions\n",
    "R = P and Q\n",
    "S = P or Q\n",
    "T = not P\n",
    "\n",
    "print(R)\n",
    "print(S)\n",
    "print(T)\n"
   ]
  },
  {
   "cell_type": "markdown",
   "metadata": {},
   "source": [
    "# IF Condition "
   ]
  },
  {
   "cell_type": "code",
   "execution_count": 165,
   "metadata": {},
   "outputs": [
    {
     "name": "stdout",
     "output_type": "stream",
     "text": [
      "move on\n"
     ]
    }
   ],
   "source": [
    "age = 19\n",
    "\n",
    "if age > 23:\n",
    "    print(\"you can enter\" )\n",
    "elif age < 19:\n",
    "    print(\"move on\" )\n",
    "else:\n",
    "    print(\"move on\")"
   ]
  },
  {
   "cell_type": "code",
   "execution_count": 166,
   "metadata": {},
   "outputs": [
    {
     "name": "stdout",
     "output_type": "stream",
     "text": [
      "Album year was in between 1980 and 1989\n",
      "Album was not made in the 1980's\n",
      "Album year is not 1984\n"
     ]
    }
   ],
   "source": [
    "album_year = 1980\n",
    "if(album_year > 1979) and (album_year < 1990):\n",
    "    print (\"Album year was in between 1980 and 1989\")\n",
    "\n",
    "album_year = 1990\n",
    "if(album_year < 1980) or (album_year > 1989):\n",
    "    print (\"Album was not made in the 1980's\")\n",
    "\n",
    "if not (album_year == 1984):\n",
    "    print (\"Album year is not 1984\")"
   ]
  },
  {
   "cell_type": "markdown",
   "metadata": {},
   "source": [
    "# List\n",
    "Lists are just like dynamically sized arrays, declared in other languages (vector in C++ and ArrayList in Java). In simple language, a list is a collection of things, enclosed in [ ] and separated by commas. "
   ]
  },
  {
   "cell_type": "code",
   "execution_count": 19,
   "metadata": {},
   "outputs": [],
   "source": [
    "# create the list\n",
    "L = [ \"Michael Jackson\" , 10.1 , 1982 , 155 ]\n",
    "new_L = [\"Michael Jackson\", 10.1, 1982, [1, 2], (\"A\", 1)]\n",
    "\n"
   ]
  },
  {
   "cell_type": "code",
   "execution_count": 33,
   "metadata": {},
   "outputs": [
    {
     "name": "stdout",
     "output_type": "stream",
     "text": [
      "<class 'str'>\n",
      "<class 'float'>\n",
      "<class 'list'> \n",
      "\n"
     ]
    }
   ],
   "source": [
    "print( type(new_L[0]) )\n",
    "print( type(new_L[1]) )\n",
    "print( type(new_L[3]) , \"\\n\" )"
   ]
  },
  {
   "cell_type": "code",
   "execution_count": 20,
   "metadata": {},
   "outputs": [
    {
     "name": "stdout",
     "output_type": "stream",
     "text": [
      "['Michael Jackson', 10.1, 1982, 155, 'pop', 10] \n",
      "\n",
      "['Michael Jackson', 10.1, 1982, 155, 'pop', 10, ['pop2', 11]] \n",
      "\n",
      "['hi', 'Michael Jackson', 10.1, 1982, 155, 'pop', 10, ['pop2', 11]] \n",
      "\n",
      "['hi', 'Michael Jackson', 10.1, 1982, 155, 'pop', 10, ['pop2', 11], 1, 2, 3, 4, 56] \n",
      "\n"
     ]
    }
   ],
   "source": [
    "#to add new elemnts \n",
    "L.extend(  [ 'pop', 10 ] )\n",
    "print(L,\"\\n\")\n",
    "L.append(['pop2', 11])\n",
    "print(L,\"\\n\")\n",
    "\n",
    "L.insert(0, 'hi')\n",
    "print(L,\"\\n\")\n",
    "\n",
    "L.extend([1,2,3,4,56]) #Adds all the elements of an iterable to the end of the list.\n",
    "print(L,\"\\n\")\n"
   ]
  },
  {
   "cell_type": "code",
   "execution_count": 21,
   "metadata": {},
   "outputs": [
    {
     "name": "stdout",
     "output_type": "stream",
     "text": [
      "['hard rock', 'Michael Jackson', 10.1, 1982, 155, 'pop', 10, ['pop2', 11], 1, 2, 3, 4, 56]\n",
      "['hard rock', 'Michael Jackson', 10.1, 1982, 155, 'pop', 10, ['pop2', 11], 1, 2, 3, 4]\n",
      "['Michael Jackson', 10.1, 1982, 155, 'pop', 10, ['pop2', 11], 1, 2, 3, 4]\n"
     ]
    }
   ],
   "source": [
    "\n",
    "# Change the element based on the index\n",
    "L[0] = 'hard rock'\n",
    "print(L)\n",
    "\n",
    "L.pop()\n",
    "print(L)\n",
    "\n",
    "L.pop(0)\n",
    "print(L)"
   ]
  },
  {
   "cell_type": "code",
   "execution_count": 22,
   "metadata": {},
   "outputs": [
    {
     "name": "stdout",
     "output_type": "stream",
     "text": [
      "[10.1, 1982, 155, 10, ['pop2', 11], 1, 2, 3, 4]\n"
     ]
    }
   ],
   "source": [
    "# Delete the element based on the index\n",
    "del( L[0] )\n",
    "L.remove('pop')\n",
    "print(L)"
   ]
  },
  {
   "attachments": {
    "List-Slicing.jpg": {
     "image/jpeg": "[encoded data removed]"
    }
   },
   "cell_type": "markdown",
   "metadata": {},
   "source": [
    "![List-Slicing.jpg](attachment:List-Slicing.jpg)"
   ]
  },
  {
   "cell_type": "code",
   "execution_count": 23,
   "metadata": {},
   "outputs": [
    {
     "name": "stdout",
     "output_type": "stream",
     "text": [
      "the same element using negative and positive indexing:\n",
      " Postive: 10.1 \n",
      " Negative: 2 with type  <class 'int'>\n",
      "\n",
      "the same element using negative and positive indexing:\n",
      " Postive: 1982 \n",
      " Negative: 3 with type  <class 'int'>\n",
      "\n",
      "the same element using negative and positive indexing:\n",
      " Postive: 155 \n",
      " Negative: 4 with type  <class 'int'> \n",
      "\n"
     ]
    }
   ],
   "source": [
    "print('the same element using negative and positive indexing:\\n Postive:',L[0],\n",
    "'\\n Negative:' , L[-3]  )\n",
    "print('\\nthe same element using negative and positive indexing:\\n Postive:',L[1],\n",
    "'\\n Negative:' , L[-2]  )\n",
    "print('\\nthe same element using negative and positive indexing:\\n Postive:',L[2],\n",
    "'\\n Negative:' , L[-1] ,\"\\n\" )"
   ]
  },
  {
   "cell_type": "code",
   "execution_count": 24,
   "metadata": {},
   "outputs": [
    {
     "name": "stdout",
     "output_type": "stream",
     "text": [
      "1\n",
      "A\n"
     ]
    }
   ],
   "source": [
    "print(new_L[3][0])\n",
    "print(new_L[4][0])"
   ]
  },
  {
   "cell_type": "code",
   "execution_count": 25,
   "metadata": {},
   "outputs": [
    {
     "name": "stdout",
     "output_type": "stream",
     "text": [
      "['Michael Jackson', 10.1, 1982, [1, 2], ('A', 1)] \n",
      "\n",
      "[[1, 2], ('A', 1)] \n",
      "\n",
      "[10.1, [1, 2]] \n",
      "\n",
      "[10.1, 1982, [1, 2]] \n",
      "\n"
     ]
    }
   ],
   "source": [
    "\n",
    "# if we want the last two elements, we use the following command:\n",
    "print(new_L[:] ,\"\\n\")\n",
    "print( new_L[ 3:5 ],\"\\n\" )\n",
    "print( new_L[ 1:5:2] ,\"\\n\")\n",
    "print( new_L[ -4:-1] ,\"\\n\")\n"
   ]
  },
  {
   "cell_type": "code",
   "execution_count": 26,
   "metadata": {},
   "outputs": [
    {
     "name": "stdout",
     "output_type": "stream",
     "text": [
      "[4, 3, 2, 1, ['pop2', 11], 10, 155, 1982, 10.1] \n",
      "\n",
      "[10.1, 1982, 155, 10, ['pop2', 11], 1, 2, 3, 4, 'Michael Jackson', 10.1, 1982, [1, 2], ('A', 1)] \n",
      "\n",
      "9 \n",
      "\n"
     ]
    }
   ],
   "source": [
    "print( L[::-1] ,\"\\n\")\n",
    "\n",
    "print ( L + new_L ,\"\\n\")\n",
    "\n",
    "print( len(L) ,\"\\n\")"
   ]
  },
  {
   "cell_type": "code",
   "execution_count": 27,
   "metadata": {},
   "outputs": [
    {
     "name": "stdout",
     "output_type": "stream",
     "text": [
      "[0, 2, 5, 6, 6, 8, 9, 9, 10]\n",
      "[10, 9, 9, 8, 6, 6, 5, 2, 0]\n",
      "[0, 2, 5, 6, 6, 8, 9, 9, 10]\n"
     ]
    }
   ],
   "source": [
    "Ratings = [0, 9, 6, 5, 10, 8, 9, 6, 2]\n",
    "sortedlist = sorted(Ratings)\n",
    "print(sortedlist)\n",
    "\n",
    "sortedlist = sorted(Ratings,reverse=True)\n",
    "print(sortedlist)\n",
    "\n",
    "Ratings = [0, 9, 6, 5, 10, 8, 9, 6, 2]\n",
    "Ratings.sort()\n",
    "print(Ratings)"
   ]
  },
  {
   "cell_type": "code",
   "execution_count": 28,
   "metadata": {},
   "outputs": [
    {
     "name": "stdout",
     "output_type": "stream",
     "text": [
      "[1, 2, 3, 4, 5, 6, 7]\n",
      "1 2 3 4 5 6 7\n"
     ]
    }
   ],
   "source": [
    "arr = [1,2,3,4,5,6,7]\n",
    "print(arr)\n",
    "print(*arr)"
   ]
  },
  {
   "cell_type": "code",
   "execution_count": 29,
   "metadata": {},
   "outputs": [
    {
     "name": "stdout",
     "output_type": "stream",
     "text": [
      "The list is: ['1', '2', '3', '4', '5', '6']\n"
     ]
    }
   ],
   "source": [
    "string = '1 2 3 4 5 6'\n",
    "lst = string.split()  \n",
    "print('The list is:', lst)"
   ]
  },
  {
   "cell_type": "markdown",
   "metadata": {},
   "source": [
    "# Tuple\n",
    "Tuple is a collection of objects separated by commas. In some ways, a tuple is similar to a Python list in terms of indexing, nested objects, and repetition but the main difference between both is Python tuple is immutable, unlike the Python list which is mutable."
   ]
  },
  {
   "cell_type": "code",
   "execution_count": 67,
   "metadata": {},
   "outputs": [],
   "source": [
    "# Create your first tuple\n",
    "tuple1 = (\"disco\",10,1.2 )"
   ]
  },
  {
   "cell_type": "code",
   "execution_count": 68,
   "metadata": {},
   "outputs": [
    {
     "name": "stdout",
     "output_type": "stream",
     "text": [
      "disco\n",
      "1.2\n",
      "('disco', 10) \n",
      "\n",
      "('disco', 1.2) \n",
      "\n",
      "(1.2, 10, 'disco') \n",
      "\n",
      "<class 'str'>\n",
      "<class 'int'>\n",
      "<class 'float'> \n",
      "\n"
     ]
    }
   ],
   "source": [
    "print( tuple1[0] )\n",
    "print( tuple1[-1] )\n",
    "print( tuple1[0:2] ,\"\\n\")\n",
    "print( tuple1[0:3:2] ,\"\\n\")\n",
    "print(tuple1[::-1],'\\n')\n",
    "print( type(tuple1[0]) )\n",
    "print( type(tuple1[1]) )\n",
    "print( type(tuple1[2]) , \"\\n\" )"
   ]
  },
  {
   "cell_type": "code",
   "execution_count": 69,
   "metadata": {},
   "outputs": [
    {
     "ename": "TypeError",
     "evalue": "'tuple' object does not support item assignment",
     "output_type": "error",
     "traceback": [
      "\u001b[1;31m---------------------------------------------------------------------------\u001b[0m",
      "\u001b[1;31mTypeError\u001b[0m                                 Traceback (most recent call last)",
      "Cell \u001b[1;32mIn[69], line 1\u001b[0m\n\u001b[1;32m----> 1\u001b[0m tuple1[\u001b[39m0\u001b[39;49m] \u001b[39m=\u001b[39m \u001b[39m15\u001b[39m  \u001b[39m#! it will case an error cuz you cant change the values inside the tuple \u001b[39;00m\n",
      "\u001b[1;31mTypeError\u001b[0m: 'tuple' object does not support item assignment"
     ]
    }
   ],
   "source": [
    "tuple1[0] = 15  #! it will case an error cuz you cant change the values inside the tuple "
   ]
  },
  {
   "cell_type": "code",
   "execution_count": null,
   "metadata": {},
   "outputs": [
    {
     "name": "stdout",
     "output_type": "stream",
     "text": [
      "(0, 1, 2, 3) \n",
      "\n",
      "(0, 1, 2, 3, 'hard rock', 10) \n",
      "\n",
      "((0, 1, 2, 3), ('a', 'b')) \n",
      "\n",
      "('a', 'a')\n"
     ]
    }
   ],
   "source": [
    "# Concatenate two tuples\n",
    "print(tuple1,'\\n')\n",
    "tuple2 = tuple1 + ( \"hard rock\" , 10 )\n",
    "print( tuple2,'\\n' )\n",
    "\n",
    "\n",
    "tuple1 = (0, 1, 2, 3)\n",
    "tuple2 = ('a', 'b')\n",
    "tuple3 = (tuple1, tuple2)\n",
    "print(tuple3,'\\n')\n",
    "\n",
    "tuple4 = ('a',) *2\n",
    "print(tuple4)"
   ]
  },
  {
   "cell_type": "code",
   "execution_count": null,
   "metadata": {},
   "outputs": [
    {
     "name": "stdout",
     "output_type": "stream",
     "text": [
      "5\n"
     ]
    }
   ],
   "source": [
    "print( len(tuple2) )"
   ]
  },
  {
   "cell_type": "code",
   "execution_count": null,
   "metadata": {},
   "outputs": [
    {
     "name": "stdout",
     "output_type": "stream",
     "text": [
      "[2, 11, 35] \n",
      "\n",
      "(2, 11, 35)\n"
     ]
    }
   ],
   "source": [
    "\n",
    "Ratings = (11,2,35)\n",
    "sortedtuple = sorted( Ratings )\n",
    "print( sortedtuple ,\"\\n\")\n",
    "sortedtuple = tuple(sorted( Ratings ))\n",
    "print( sortedtuple )"
   ]
  },
  {
   "cell_type": "code",
   "execution_count": 70,
   "metadata": {},
   "outputs": [
    {
     "name": "stdout",
     "output_type": "stream",
     "text": [
      "Element 0 of Tuple:  1\n",
      "Element 4 of Tuple:  ('disco', (1, 2)) \n",
      "\n",
      "Element 2, 0 of Tuple:  pop\n",
      "Element 4, 0 of Tuple:  disco\n",
      "Element 4, 1 of Tuple:  (1, 2)\n"
     ]
    },
    {
     "data": {
      "text/plain": [
       "'r'"
      ]
     },
     "execution_count": 70,
     "metadata": {},
     "output_type": "execute_result"
    }
   ],
   "source": [
    "# Create a nest tuple\n",
    "NestedT = ( 1 , 2 , ( \"pop\" , \"rock\" ) , ( 3 , 4 ) , ( \"disco\" , ( 1 , 2 ) ) )\n",
    "print( \"Element 0 of Tuple: \", NestedT[0] )\n",
    "print( \"Element 4 of Tuple: \", NestedT[4] , \"\\n\" )\n",
    "\n",
    "# Print element on each index, including nest indexes\n",
    "print( \"Element 2, 0 of Tuple: \",   NestedT[2][0] )\n",
    "print( \"Element 4, 0 of Tuple: \",   NestedT[4][0] )\n",
    "print( \"Element 4, 1 of Tuple: \",   NestedT[4][1] )\n",
    "\n",
    "# Print the first element in the second nested tuples\n",
    "NestedT[2][1][0]"
   ]
  },
  {
   "cell_type": "markdown",
   "metadata": {},
   "source": [
    "# Dictionary\n",
    "A dictionary consists of keys and values. It is helpful to compare a dictionary to a list.\n",
    "Instead of being indexed numerically like a list, dictionaries have keys. \n",
    "These keys are the keys that are used to access values within a dictionary"
   ]
  },
  {
   "cell_type": "code",
   "execution_count": 127,
   "metadata": {},
   "outputs": [],
   "source": [
    "# Create the dictionary\n",
    "Dict = {\"key1\": 1, \"key2\": \"2\", \"key3\": [3, 3, 3], \"key4\": (4, 4, 4), ('key5'): 5, (0, 1): 6}\n"
   ]
  },
  {
   "cell_type": "code",
   "execution_count": 128,
   "metadata": {},
   "outputs": [
    {
     "name": "stdout",
     "output_type": "stream",
     "text": [
      "1\n",
      "6 \n",
      "\n"
     ]
    }
   ],
   "source": [
    "print(Dict[\"key1\"])\n",
    "print(Dict[(0, 1)] , \"\\n\")"
   ]
  },
  {
   "cell_type": "code",
   "execution_count": 129,
   "metadata": {},
   "outputs": [
    {
     "name": "stdout",
     "output_type": "stream",
     "text": [
      "keys =  dict_keys(['key1', 'key2', 'key3', 'key4', 'key5', (0, 1)]) \n",
      "\n",
      "values =  dict_values([1, '2', [3, 3, 3], (4, 4, 4), 5, 6]) \n",
      "\n",
      "dict_items([('key1', 1), ('key2', '2'), ('key3', [3, 3, 3]), ('key4', (4, 4, 4)), ('key5', 5), ((0, 1), 6)])\n"
     ]
    }
   ],
   "source": [
    "print (\"keys = \" , Dict.keys() ,\"\\n\" )\n",
    "print (\"values = \",Dict.values() ,\"\\n\" )\n",
    "print(Dict.items())"
   ]
  },
  {
   "cell_type": "code",
   "execution_count": 130,
   "metadata": {},
   "outputs": [
    {
     "name": "stdout",
     "output_type": "stream",
     "text": [
      "{'key1': 1, 'key2': '2', 'key3': [3, 3, 3], 'key4': (4, 4, 4), 'key5': 5, (0, 1): 6, 'Graduation': '2007'}\n"
     ]
    }
   ],
   "source": [
    "# Append value with key into dictionary\n",
    "Dict['Graduation'] = '2007'\n",
    "print(Dict)"
   ]
  },
  {
   "cell_type": "code",
   "execution_count": 131,
   "metadata": {},
   "outputs": [
    {
     "name": "stdout",
     "output_type": "stream",
     "text": [
      "{'key1': '2007', 'key2': '2', 'key3': [3, 3, 3], 'key4': (4, 4, 4), 'key5': 5, (0, 1): 6, 'Graduation': '2007'}\n",
      "{'key1': '2007', 'key2': '2', 'key3': [3, 3, 3], 'key4': 'h', 'key5': 5, (0, 1): 6, 'Graduation': '2007'}\n"
     ]
    }
   ],
   "source": [
    "Dict['key1'] = '2007'\n",
    "print(Dict)\n",
    "\n",
    "Dict.update({'key4': \"h\"})\n",
    "print(Dict)"
   ]
  },
  {
   "attachments": {
    "Dictionary-Creation-1.jpg": {
     "image/jpeg": "[encoded data removed]"
    }
   },
   "cell_type": "markdown",
   "metadata": {},
   "source": [
    "# Nested Dictionary\n",
    "![Dictionary-Creation-1.jpg](attachment:Dictionary-Creation-1.jpg)"
   ]
  },
  {
   "cell_type": "code",
   "execution_count": 132,
   "metadata": {},
   "outputs": [
    {
     "name": "stdout",
     "output_type": "stream",
     "text": [
      "{1: 'a', 2: 'b', 3: {'A': 1, 'B': 2, 'C': 3}}\n"
     ]
    }
   ],
   "source": [
    "Dict1 = {1: 'a', 2: 'b',\n",
    "        3: {'A': 1, 'B': 2, 'C': 3}}\n",
    "  \n",
    "print(Dict1)"
   ]
  },
  {
   "cell_type": "code",
   "execution_count": 133,
   "metadata": {},
   "outputs": [
    {
     "name": "stdout",
     "output_type": "stream",
     "text": [
      "2007\n"
     ]
    }
   ],
   "source": [
    "print(Dict.get('key1'))"
   ]
  },
  {
   "cell_type": "code",
   "execution_count": 134,
   "metadata": {},
   "outputs": [
    {
     "name": "stdout",
     "output_type": "stream",
     "text": [
      "{1: 'a'}\n",
      "a\n",
      "c\n"
     ]
    }
   ],
   "source": [
    "# Creating a Dictionary\n",
    "Dict = {'Dict1': {1: 'a'},\n",
    "\t\t'Dict2': {'b': 'c'}}\n",
    "\n",
    "# Accessing element using key\n",
    "print(Dict['Dict1'])\n",
    "print(Dict['Dict1'][1])\n",
    "print(Dict['Dict2']['b'])\n"
   ]
  },
  {
   "cell_type": "code",
   "execution_count": 135,
   "metadata": {},
   "outputs": [
    {
     "name": "stdout",
     "output_type": "stream",
     "text": [
      "{'Dict1': {1: 'a'}, 'Dict2': {'b': 'c'}}\n",
      "{'Dict2': {'b': 'c'}}\n",
      "{}\n"
     ]
    }
   ],
   "source": [
    "print(Dict)\n",
    "#Deleting some of the Dictionar data\n",
    "del(Dict['Dict1'])\n",
    "print(Dict)\n",
    "\n",
    "Dict.clear()\n",
    "print(Dict)"
   ]
  },
  {
   "cell_type": "markdown",
   "metadata": {},
   "source": [
    "# Set\n",
    "Set is an unordered collection of data types that is iterable, mutable and has no duplicate elements. The order of elements in a set is undefined though it may consist of various elements. The major advantage of using a set, as opposed to a list, is that it has a highly optimized method for checking whether a specific element is contained in the set."
   ]
  },
  {
   "cell_type": "code",
   "execution_count": 158,
   "metadata": {},
   "outputs": [
    {
     "name": "stdout",
     "output_type": "stream",
     "text": [
      "{'s', 'f', 'i', 'u', 'o', 'y'} \n",
      "\n"
     ]
    }
   ],
   "source": [
    "set1 = set()\n",
    "set1 = set('youssif')\n",
    "print(set1,\"\\n\")"
   ]
  },
  {
   "cell_type": "code",
   "execution_count": 159,
   "metadata": {},
   "outputs": [
    {
     "name": "stdout",
     "output_type": "stream",
     "text": [
      "{8, 1, 3, 5} \n",
      "\n"
     ]
    }
   ],
   "source": [
    "set1 = [ 1,1,5,3,8,3]\n",
    "set1 = set(set1)\n",
    "print(set1,\"\\n\")"
   ]
  },
  {
   "cell_type": "code",
   "execution_count": 160,
   "metadata": {},
   "outputs": [
    {
     "name": "stdout",
     "output_type": "stream",
     "text": [
      "{3, 5, 8, 10}\n"
     ]
    }
   ],
   "source": [
    "# Add element to set\n",
    "set1.add(10)\n",
    "set1.remove(1)\n",
    "print(set1)"
   ]
  },
  {
   "cell_type": "code",
   "execution_count": 161,
   "metadata": {},
   "outputs": [
    {
     "name": "stdout",
     "output_type": "stream",
     "text": [
      "{3, 5, 8, 10, 11}\n"
     ]
    }
   ],
   "source": [
    "set1.update([10, 11])\n",
    "print(set1)"
   ]
  },
  {
   "cell_type": "code",
   "execution_count": 163,
   "metadata": {},
   "outputs": [
    {
     "name": "stdout",
     "output_type": "stream",
     "text": [
      "{'Back in Black', 'AC/DC'} \n",
      "\n",
      "{'Thriller'} \n",
      "\n"
     ]
    }
   ],
   "source": [
    "album_set1 = set([\"Thriller\", 'AC/DC', 'Back in Black'])\n",
    "album_set2 = set([ \"AC/DC\", \"Back in Black\", \"The Dark Side of the Moon\"])\n",
    "# Find the intersections\n",
    "intersection = album_set1 & album_set2\n",
    "print(intersection ,\"\\n\")\n",
    "\n",
    "print( album_set1.difference(album_set2) ,\"\\n\" )"
   ]
  },
  {
   "cell_type": "code",
   "execution_count": 164,
   "metadata": {},
   "outputs": [
    {
     "name": "stdout",
     "output_type": "stream",
     "text": [
      "{'Thriller', 'The Dark Side of the Moon', '\\n', 'Back in Black', 'AC/DC'}\n"
     ]
    }
   ],
   "source": [
    "# Find the union of two sets\n",
    "print(album_set1.union(album_set2,\"\\n\"))"
   ]
  },
  {
   "cell_type": "markdown",
   "metadata": {},
   "source": [
    "# For loop"
   ]
  },
  {
   "cell_type": "code",
   "execution_count": 1,
   "metadata": {},
   "outputs": [
    {
     "name": "stdout",
     "output_type": "stream",
     "text": [
      "0\n",
      "1\n",
      "2\n",
      "3\n",
      "4\n"
     ]
    }
   ],
   "source": [
    "for step in range(5):\t\n",
    "    print(step)\n"
   ]
  },
  {
   "cell_type": "code",
   "execution_count": 2,
   "metadata": {},
   "outputs": [
    {
     "name": "stdout",
     "output_type": "stream",
     "text": [
      "0\n",
      "2\n",
      "4\n"
     ]
    }
   ],
   "source": [
    "start = 0\n",
    "end = 5\n",
    "step = 2\n",
    "for i in range(start, end, step):\n",
    "    print(i)"
   ]
  },
  {
   "cell_type": "code",
   "execution_count": 3,
   "metadata": {},
   "outputs": [
    {
     "name": "stdout",
     "output_type": "stream",
     "text": [
      "apple\n",
      "banana\n",
      "cherry\n"
     ]
    }
   ],
   "source": [
    "fruits = [\"apple\", \"banana\", \"cherry\"]\n",
    "for x in fruits:\n",
    "  print(x)"
   ]
  },
  {
   "cell_type": "code",
   "execution_count": 4,
   "metadata": {},
   "outputs": [
    {
     "name": "stdout",
     "output_type": "stream",
     "text": [
      "apple\n",
      "banana\n"
     ]
    }
   ],
   "source": [
    "fruits = [\"apple\", \"banana\", \"cherry\"]\n",
    "for x in fruits:\n",
    "  print(x)\n",
    "  if x == \"banana\":\n",
    "    break"
   ]
  },
  {
   "cell_type": "code",
   "execution_count": 5,
   "metadata": {},
   "outputs": [
    {
     "name": "stdout",
     "output_type": "stream",
     "text": [
      "apple\n",
      "cherry\n"
     ]
    }
   ],
   "source": [
    "fruits = [\"apple\", \"banana\", \"cherry\"]\n",
    "for x in fruits:\n",
    "  if x == \"banana\":\n",
    "    continue\n",
    "  print(x)"
   ]
  },
  {
   "cell_type": "code",
   "execution_count": 6,
   "metadata": {},
   "outputs": [
    {
     "name": "stdout",
     "output_type": "stream",
     "text": [
      "0\n",
      "1\n",
      "2\n",
      "3\n",
      "4\n",
      "5\n",
      "Finally finished!\n"
     ]
    }
   ],
   "source": [
    "for x in range(6):\n",
    "  print(x)\n",
    "else:\n",
    "  print(\"Finally finished!\")"
   ]
  },
  {
   "cell_type": "code",
   "execution_count": 7,
   "metadata": {},
   "outputs": [
    {
     "name": "stdout",
     "output_type": "stream",
     "text": [
      "red apple\n",
      "red banana\n",
      "red cherry\n",
      "big apple\n",
      "big banana\n",
      "big cherry\n",
      "tasty apple\n",
      "tasty banana\n",
      "tasty cherry\n"
     ]
    }
   ],
   "source": [
    "adj = [\"red\", \"big\", \"tasty\"]\n",
    "fruits = [\"apple\", \"banana\", \"cherry\"]\n",
    "\n",
    "for x in adj:\n",
    "  for y in fruits:\n",
    "    print(x, y)"
   ]
  },
  {
   "cell_type": "code",
   "execution_count": 8,
   "metadata": {},
   "outputs": [
    {
     "name": "stdout",
     "output_type": "stream",
     "text": [
      "[1, 9, 25, 49, 81]\n"
     ]
    }
   ],
   "source": [
    "odd_square = [x ** 2 for x in range(1, 11) if x % 2 == 1]\n",
    "print(odd_square)\n"
   ]
  },
  {
   "cell_type": "markdown",
   "metadata": {},
   "source": [
    "# While"
   ]
  },
  {
   "cell_type": "code",
   "execution_count": 1,
   "metadata": {},
   "outputs": [
    {
     "name": "stdout",
     "output_type": "stream",
     "text": [
      "1\n",
      "2\n",
      "3\n",
      "4\n",
      "5\n"
     ]
    }
   ],
   "source": [
    "i = 1\n",
    "n = 5\n",
    "\n",
    "while i <= n:\n",
    "    print(i)\n",
    "    i = i + 1"
   ]
  },
  {
   "cell_type": "code",
   "execution_count": 3,
   "metadata": {},
   "outputs": [
    {
     "name": "stdout",
     "output_type": "stream",
     "text": [
      "Inside loop\n",
      "Inside loop\n",
      "Inside loop\n",
      "\n",
      "Inside else\n"
     ]
    }
   ],
   "source": [
    "counter = 0\n",
    "\n",
    "while counter < 3:\n",
    "    print('Inside loop')\n",
    "    counter = counter + 1\n",
    "else:\n",
    "    print('\\nInside else')"
   ]
  },
  {
   "cell_type": "code",
   "execution_count": 4,
   "metadata": {},
   "outputs": [
    {
     "name": "stdout",
     "output_type": "stream",
     "text": [
      "Inside loop\n"
     ]
    }
   ],
   "source": [
    "counter = 0\n",
    "\n",
    "while counter < 3:\n",
    "    # loop ends because of break\n",
    "    # the else part is not executed \n",
    "    if counter == 1:\n",
    "        break\n",
    "\n",
    "    print('Inside loop')\n",
    "    counter = counter + 1\n",
    "else:\n",
    "    print('Inside else')"
   ]
  },
  {
   "cell_type": "code",
   "execution_count": 6,
   "metadata": {},
   "outputs": [],
   "source": [
    "while True:\n",
    "    break"
   ]
  },
  {
   "cell_type": "code",
   "execution_count": 7,
   "metadata": {},
   "outputs": [
    {
     "name": "stdout",
     "output_type": "stream",
     "text": [
      "4\n",
      "3\n",
      "2\n",
      "1\n"
     ]
    }
   ],
   "source": [
    "a = [1, 2, 3, 4]\n",
    "\n",
    "while a:\n",
    "\tprint(a.pop())\n"
   ]
  },
  {
   "cell_type": "markdown",
   "metadata": {},
   "source": [
    "# Matrix"
   ]
  },
  {
   "cell_type": "code",
   "execution_count": 8,
   "metadata": {},
   "outputs": [
    {
     "name": "stdout",
     "output_type": "stream",
     "text": [
      "[10, 10, 10]\n",
      "[10, 10, 10]\n",
      "[10, 10, 10]\n"
     ]
    }
   ],
   "source": [
    "X = [[1,2,3],\n",
    "\t[4 ,5,6],\n",
    "\t[7 ,8,9]]\n",
    "\n",
    "Y = [[9,8,7],\n",
    "\t[6,5,4],\n",
    "\t[3,2,1]]\n",
    "\n",
    "\n",
    "result = [[0,0,0],\n",
    "\t\t[0,0,0],\n",
    "\t\t[0,0,0]]\n",
    "\n",
    "# iterate through rows\n",
    "for i in range(len(X)):\n",
    "# iterate through columns\n",
    "\tfor j in range(len(X[0])):\n",
    "\t\tresult[i][j] = X[i][j] + Y[i][j]\n",
    "\n",
    "for r in result:\n",
    "\tprint(r)\n"
   ]
  },
  {
   "cell_type": "markdown",
   "metadata": {},
   "source": [
    "# Function"
   ]
  },
  {
   "attachments": {
    "working-function-python.png": {
     "image/png": "[encoded data removed]"
    }
   },
   "cell_type": "markdown",
   "metadata": {},
   "source": [
    "![working-function-python.png](attachment:working-function-python.png)"
   ]
  },
  {
   "cell_type": "code",
   "execution_count": 9,
   "metadata": {},
   "outputs": [
    {
     "name": "stdout",
     "output_type": "stream",
     "text": [
      "Hello World!\n"
     ]
    }
   ],
   "source": [
    "def say_hello():\n",
    "    print('Hello World!')\n",
    "    \n",
    "say_hello()"
   ]
  },
  {
   "cell_type": "code",
   "execution_count": 16,
   "metadata": {},
   "outputs": [
    {
     "name": "stdout",
     "output_type": "stream",
     "text": [
      "Sum:  9\n",
      "Sum:  9\n"
     ]
    }
   ],
   "source": [
    "def add_numbers(num1, num2):\n",
    "    sum = num1 + num2\n",
    "    print('Sum: ',sum)\n",
    "\n",
    "add_numbers(5, 4)\n",
    "\n",
    "add_numbers(num2 = 5, num1 = 4)"
   ]
  },
  {
   "cell_type": "code",
   "execution_count": 17,
   "metadata": {},
   "outputs": [
    {
     "name": "stdout",
     "output_type": "stream",
     "text": [
      "Square: 9\n"
     ]
    }
   ],
   "source": [
    "def find_square(num):\n",
    "    result = num * num\n",
    "    return result\n",
    "\n",
    "square = find_square(3)\n",
    "\n",
    "print('Square:',square)\n",
    "\n"
   ]
  },
  {
   "cell_type": "code",
   "execution_count": 20,
   "metadata": {},
   "outputs": [
    {
     "name": "stdout",
     "output_type": "stream",
     "text": [
      "Sum:  9\n",
      "Sum:  3\n",
      "Sum:  7\n"
     ]
    }
   ],
   "source": [
    "def add_numbers(num1=1, num2=2):\n",
    "    sum = num1 + num2\n",
    "    print('Sum: ',sum)\n",
    "\n",
    "add_numbers(5, 4)\n",
    "\n",
    "add_numbers()\n",
    "add_numbers(num1= 5)"
   ]
  },
  {
   "cell_type": "markdown",
   "metadata": {},
   "source": [
    "# Lambda Function"
   ]
  },
  {
   "cell_type": "code",
   "execution_count": 21,
   "metadata": {},
   "outputs": [
    {
     "name": "stdout",
     "output_type": "stream",
     "text": [
      "Hello World\n"
     ]
    }
   ],
   "source": [
    "#? lambda argument(s) : expression \n",
    "#* argument(s) - any value passed to the lambda function\n",
    "#* expression - expression is executed and returned\n",
    "\n",
    "# declare a lambda function\n",
    "a = lambda : print('Hello World')\n",
    "# call lambda function\n",
    "a()\n",
    "\n",
    "\n"
   ]
  },
  {
   "cell_type": "code",
   "execution_count": 23,
   "metadata": {},
   "outputs": [
    {
     "name": "stdout",
     "output_type": "stream",
     "text": [
      "Hey there, youssif\n"
     ]
    }
   ],
   "source": [
    "a = lambda name : print('Hey there,', name)\n",
    "a('youssif')"
   ]
  },
  {
   "cell_type": "code",
   "execution_count": 27,
   "metadata": {},
   "outputs": [
    {
     "name": "stdout",
     "output_type": "stream",
     "text": [
      "YOUSSIF\n"
     ]
    }
   ],
   "source": [
    "str1 = 'youssif'\n",
    "\n",
    "upper = lambda string: string.upper()\n",
    "print(upper(str1))\n"
   ]
  },
  {
   "cell_type": "code",
   "execution_count": 28,
   "metadata": {},
   "outputs": [
    {
     "name": "stdout",
     "output_type": "stream",
     "text": [
      "Int formatting: 1.000000e+06\n",
      "float formatting: 999,999.79\n"
     ]
    }
   ],
   "source": [
    "format_numeric = lambda num: f\"{num:e}\" if isinstance(num, int) else f\"{num:,.2f}\"\n",
    "\n",
    "print(\"Int formatting:\", format_numeric(1000000))\n",
    "print(\"float formatting:\", format_numeric(999999.789541235))\n"
   ]
  },
  {
   "cell_type": "code",
   "execution_count": 30,
   "metadata": {},
   "outputs": [
    {
     "name": "stdout",
     "output_type": "stream",
     "text": [
      "125\n",
      "125\n"
     ]
    }
   ],
   "source": [
    "def cube(y):\n",
    "\treturn y*y*y\n",
    "\n",
    "lambda_cube = lambda y: y*y*y\n",
    "\n",
    "\n",
    "print( cube(5))\n",
    "\n",
    "print( lambda_cube(5))\n"
   ]
  },
  {
   "cell_type": "code",
   "execution_count": 31,
   "metadata": {},
   "outputs": [
    {
     "name": "stdout",
     "output_type": "stream",
     "text": [
      "2\n"
     ]
    }
   ],
   "source": [
    "Max = lambda a, b : a if(a > b) else b\n",
    "\n",
    "print(Max(1, 2))\n"
   ]
  },
  {
   "cell_type": "markdown",
   "metadata": {},
   "source": [
    "# python modules"
   ]
  },
  {
   "cell_type": "code",
   "execution_count": 32,
   "metadata": {},
   "outputs": [
    {
     "name": "stdout",
     "output_type": "stream",
     "text": [
      "4.0\n"
     ]
    }
   ],
   "source": [
    "import math\n",
    "\n",
    "A = 16\n",
    "print(math.sqrt(A))"
   ]
  },
  {
   "cell_type": "code",
   "execution_count": 33,
   "metadata": {},
   "outputs": [
    {
     "name": "stdout",
     "output_type": "stream",
     "text": [
      "4.0\n"
     ]
    }
   ],
   "source": [
    "import math as m\n",
    "A = 16\n",
    "print(m.sqrt(A))"
   ]
  },
  {
   "cell_type": "code",
   "execution_count": 34,
   "metadata": {},
   "outputs": [
    {
     "name": "stdout",
     "output_type": "stream",
     "text": [
      "4.0\n"
     ]
    }
   ],
   "source": [
    "from math import sqrt\n",
    "A = 16\n",
    "print(sqrt(A))"
   ]
  },
  {
   "cell_type": "code",
   "execution_count": 35,
   "metadata": {},
   "outputs": [
    {
     "name": "stdout",
     "output_type": "stream",
     "text": [
      "4.0\n"
     ]
    }
   ],
   "source": [
    "from math import *\n",
    "A = 16\n",
    "print(sqrt(A))"
   ]
  },
  {
   "cell_type": "markdown",
   "metadata": {},
   "source": [
    "# Exception Handling    "
   ]
  },
  {
   "cell_type": "code",
   "execution_count": 1,
   "metadata": {},
   "outputs": [
    {
     "name": "stdout",
     "output_type": "stream",
     "text": [
      "Second element = 2\n",
      "An error occurred\n"
     ]
    }
   ],
   "source": [
    "a = [1, 2, 3]\n",
    "try:\n",
    "\tprint (\"Second element = %d\" %(a[1]))\n",
    "\n",
    "\t# Throws error since there are only 3 elements in array\n",
    "\tprint (\"Fourth element = %d\" %(a[3]))\n",
    "\n",
    "except:\n",
    "\tprint (\"An error occurred\")\n"
   ]
  },
  {
   "cell_type": "code",
   "execution_count": 2,
   "metadata": {},
   "outputs": [
    {
     "name": "stdout",
     "output_type": "stream",
     "text": [
      "Second element = 2\n",
      "An error occurred\n"
     ]
    }
   ],
   "source": [
    "a = [1, 2]\n",
    "try:\n",
    "\tprint (\"Second element = %d\" %(a[1]))\n",
    "\n",
    "\t# Throws error since there are only 3 elements in array\n",
    "\tprint (\"Fourth element = %d\" %(a[3]))\n",
    "\n",
    "except:\n",
    "\tprint (\"An error occurred\")\n"
   ]
  },
  {
   "cell_type": "markdown",
   "metadata": {},
   "source": [
    "# MAP"
   ]
  },
  {
   "cell_type": "code",
   "execution_count": 3,
   "metadata": {},
   "outputs": [
    {
     "name": "stdout",
     "output_type": "stream",
     "text": [
      "[2, 4, 6, 8]\n"
     ]
    }
   ],
   "source": [
    "# Return double of n\n",
    "def addition(n):\n",
    "\treturn n + n\n",
    "\n",
    "# We double all numbers using map()\n",
    "numbers = (1, 2, 3, 4)\n",
    "result = map(addition, numbers)\n",
    "print(list(result))\n"
   ]
  },
  {
   "cell_type": "code",
   "execution_count": 7,
   "metadata": {},
   "outputs": [
    {
     "name": "stdout",
     "output_type": "stream",
     "text": [
      "<class 'int'>\n"
     ]
    }
   ],
   "source": [
    "a = list(map(int,input().split()))\n",
    "print(type(a[0]))"
   ]
  },
  {
   "cell_type": "code",
   "execution_count": null,
   "metadata": {},
   "outputs": [],
   "source": []
  }
 ],
 "metadata": {
  "kernelspec": {
   "display_name": "Python 3",
   "language": "python",
   "name": "python3"
  },
  "language_info": {
   "codemirror_mode": {
    "name": "ipython",
    "version": 3
   },
   "file_extension": ".py",
   "mimetype": "text/x-python",
   "name": "python",
   "nbconvert_exporter": "python",
   "pygments_lexer": "ipython3",
   "version": "3.11.4"
  },
  "orig_nbformat": 4
 },
 "nbformat": 4,
 "nbformat_minor": 2
}
